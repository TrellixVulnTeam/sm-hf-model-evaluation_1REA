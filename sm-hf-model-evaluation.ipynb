{
 "cells": [
  {
   "cell_type": "code",
   "execution_count": 14,
   "id": "76951af6",
   "metadata": {},
   "outputs": [],
   "source": [
    "from sagemaker.huggingface.processing import HuggingFaceProcessor\n",
    "from sagemaker import get_execution_role"
   ]
  },
  {
   "cell_type": "code",
   "execution_count": 15,
   "id": "78cf6ac3",
   "metadata": {},
   "outputs": [],
   "source": [
    "role = get_execution_role()"
   ]
  },
  {
   "cell_type": "code",
   "execution_count": 16,
   "id": "7c593dce",
   "metadata": {},
   "outputs": [],
   "source": [
    "hf_processor = HuggingFaceProcessor(\n",
    "    role=role,\n",
    "    instance_type=\"ml.p3.2xlarge\",\n",
    "    transformers_version='4.6',\n",
    "    pytorch_version='1.7',\n",
    "    instance_count=1,\n",
    "    base_job_name='sm-hf-model-eval',\n",
    ")"
   ]
  },
  {
   "cell_type": "code",
   "execution_count": 17,
   "id": "06ff4066",
   "metadata": {},
   "outputs": [],
   "source": [
    "model = 's3://sm-hf-model-evaluation/model/model.tar.gz'\n",
    "test_data = 's3://sm-hf-model-evaluation/test_data'"
   ]
  },
  {
   "cell_type": "code",
   "execution_count": 18,
   "id": "6b284670",
   "metadata": {},
   "outputs": [],
   "source": [
    "from sagemaker.processing import ProcessingInput, ProcessingOutput\n",
    "inputs = [ProcessingInput(source=model, destination=\"/opt/ml/processing/model\"),\n",
    "          ProcessingInput(source=test_data, destination=\"/opt/ml/processing/test\"),]\n",
    "outputs = [ProcessingOutput(output_name=\"evaluation\", source=\"/opt/ml/processing/evaluation\", destination='s3://sm-hf-model-evaluation/output')]"
   ]
  },
  {
   "cell_type": "code",
   "execution_count": null,
   "id": "6ba7ad94",
   "metadata": {},
   "outputs": [],
   "source": [
    "hf_processor.run(\n",
    "    code=\"scripts/evaluate-sm-hf.py\",\n",
    "    inputs=inputs,\n",
    "    outputs=outputs,\n",
    "    wait=False,\n",
    ")"
   ]
  }
 ],
 "metadata": {
  "kernelspec": {
   "display_name": "conda_pytorch_latest_p36",
   "language": "python",
   "name": "conda_pytorch_latest_p36"
  },
  "language_info": {
   "codemirror_mode": {
    "name": "ipython",
    "version": 3
   },
   "file_extension": ".py",
   "mimetype": "text/x-python",
   "name": "python",
   "nbconvert_exporter": "python",
   "pygments_lexer": "ipython3",
   "version": "3.6.13"
  }
 },
 "nbformat": 4,
 "nbformat_minor": 5
}
